{
 "cells": [
  {
   "cell_type": "code",
   "execution_count": 1,
   "id": "954f8834",
   "metadata": {},
   "outputs": [],
   "source": [
    "import pandas as pd\n",
    "import numpy as np\n",
    "import matplotlib.pyplot as plt\n",
    "import seaborn as sns\n",
    "from sklearn.preprocessing import LabelEncoder, StandardScaler\n",
    "from sklearn.model_selection import train_test_split, cross_val_score\n",
    "from sklearn.linear_model import LinearRegression\n",
    "from sklearn.tree import DecisionTreeRegressor\n",
    "from sklearn.ensemble import RandomForestRegressor\n",
    "from sklearn.metrics import mean_squared_error\n",
    "from sklearn.linear_model import LinearRegression\n",
    "from sklearn.tree import DecisionTreeRegressor\n",
    "from sklearn.ensemble import RandomForestRegressor\n",
    "from sklearn.metrics import mean_squared_error\n",
    "from sklearn.linear_model import LinearRegression\n",
    "from sklearn.tree import DecisionTreeRegressor\n",
    "from sklearn.ensemble import RandomForestRegressor\n",
    "from sklearn.metrics import mean_squared_error, r2_score"
   ]
  },
  {
   "cell_type": "code",
   "execution_count": 2,
   "id": "e23b5c25",
   "metadata": {},
   "outputs": [],
   "source": [
    "car_data = pd.read_csv('cardata.csv')"
   ]
  },
  {
   "cell_type": "code",
   "execution_count": 3,
   "id": "213391bb",
   "metadata": {},
   "outputs": [
    {
     "name": "stdout",
     "output_type": "stream",
     "text": [
      "            Make                            Model    Price  Year  Kilometer  \\\n",
      "0          Honda              Amaze 1.2 VX i-VTEC   505000  2017      87150   \n",
      "1  Maruti Suzuki                  Swift DZire VDI   450000  2014      75000   \n",
      "2        Hyundai             i10 Magna 1.2 Kappa2   220000  2011      67000   \n",
      "3         Toyota                         Glanza G   799000  2019      37500   \n",
      "4         Toyota  Innova 2.4 VX 7 STR [2016-2020]  1950000  2018      69000   \n",
      "\n",
      "  Fuel Type Transmission   Location   Color   Owner Seller Type   Engine  \\\n",
      "0    Petrol       Manual       Pune    Grey   First   Corporate  1198 cc   \n",
      "1    Diesel       Manual   Ludhiana   White  Second  Individual  1248 cc   \n",
      "2    Petrol       Manual    Lucknow  Maroon   First  Individual  1197 cc   \n",
      "3    Petrol       Manual  Mangalore     Red   First  Individual  1197 cc   \n",
      "4    Diesel       Manual     Mumbai    Grey   First  Individual  2393 cc   \n",
      "\n",
      "            Max Power              Max Torque Drivetrain  Length   Width  \\\n",
      "0   87 bhp @ 6000 rpm       109 Nm @ 4500 rpm        FWD  3990.0  1680.0   \n",
      "1   74 bhp @ 4000 rpm       190 Nm @ 2000 rpm        FWD  3995.0  1695.0   \n",
      "2   79 bhp @ 6000 rpm  112.7619 Nm @ 4000 rpm        FWD  3585.0  1595.0   \n",
      "3   82 bhp @ 6000 rpm       113 Nm @ 4200 rpm        FWD  3995.0  1745.0   \n",
      "4  148 bhp @ 3400 rpm       343 Nm @ 1400 rpm        RWD  4735.0  1830.0   \n",
      "\n",
      "   Height  Seating Capacity  Fuel Tank Capacity  \n",
      "0  1505.0               5.0                35.0  \n",
      "1  1555.0               5.0                42.0  \n",
      "2  1550.0               5.0                35.0  \n",
      "3  1510.0               5.0                37.0  \n",
      "4  1795.0               7.0                55.0  \n"
     ]
    }
   ],
   "source": [
    "print(car_data.head())"
   ]
  },
  {
   "cell_type": "code",
   "execution_count": 4,
   "id": "c2cb3875",
   "metadata": {},
   "outputs": [
    {
     "name": "stdout",
     "output_type": "stream",
     "text": [
      "(2059, 20)\n",
      "              Price         Year     Kilometer       Length        Width  \\\n",
      "count  2.059000e+03  2059.000000  2.059000e+03  1995.000000  1995.000000   \n",
      "mean   1.702992e+06  2016.425449  5.422471e+04  4280.860652  1767.991980   \n",
      "std    2.419881e+06     3.363564  5.736172e+04   442.458507   135.265825   \n",
      "min    4.900000e+04  1988.000000  0.000000e+00  3099.000000  1475.000000   \n",
      "25%    4.849990e+05  2014.000000  2.900000e+04  3985.000000  1695.000000   \n",
      "50%    8.250000e+05  2017.000000  5.000000e+04  4370.000000  1770.000000   \n",
      "75%    1.925000e+06  2019.000000  7.200000e+04  4629.000000  1831.500000   \n",
      "max    3.500000e+07  2022.000000  2.000000e+06  5569.000000  2220.000000   \n",
      "\n",
      "            Height  Seating Capacity  Fuel Tank Capacity  \n",
      "count  1995.000000       1995.000000         1946.000000  \n",
      "mean   1591.735338          5.306266           52.002210  \n",
      "std     136.073956          0.822170           15.110198  \n",
      "min    1165.000000          2.000000           15.000000  \n",
      "25%    1485.000000          5.000000           41.250000  \n",
      "50%    1545.000000          5.000000           50.000000  \n",
      "75%    1675.000000          5.000000           60.000000  \n",
      "max    1995.000000          8.000000          105.000000  \n"
     ]
    }
   ],
   "source": [
    "print(car_data.shape)\n",
    "print(car_data.describe())"
   ]
  },
  {
   "cell_type": "code",
   "execution_count": 5,
   "id": "5e85094c",
   "metadata": {},
   "outputs": [
    {
     "name": "stdout",
     "output_type": "stream",
     "text": [
      "Make                    0\n",
      "Model                   0\n",
      "Price                   0\n",
      "Year                    0\n",
      "Kilometer               0\n",
      "Fuel Type               0\n",
      "Transmission            0\n",
      "Location                0\n",
      "Color                   0\n",
      "Owner                   0\n",
      "Seller Type             0\n",
      "Engine                 80\n",
      "Max Power              80\n",
      "Max Torque             80\n",
      "Drivetrain            136\n",
      "Length                 64\n",
      "Width                  64\n",
      "Height                 64\n",
      "Seating Capacity       64\n",
      "Fuel Tank Capacity    113\n",
      "dtype: int64\n"
     ]
    }
   ],
   "source": [
    "print(car_data.isnull().sum())"
   ]
  },
  {
   "cell_type": "code",
   "execution_count": 6,
   "id": "5fc717fd",
   "metadata": {},
   "outputs": [
    {
     "name": "stdout",
     "output_type": "stream",
     "text": [
      "0\n"
     ]
    }
   ],
   "source": [
    "print(car_data.duplicated().sum())"
   ]
  },
  {
   "cell_type": "code",
   "execution_count": 7,
   "id": "760a2f08",
   "metadata": {},
   "outputs": [
    {
     "data": {
      "image/png": "[encoded data removed]",
      "text/plain": [
       "<Figure size 640x480 with 1 Axes>"
      ]
     },
     "metadata": {},
     "output_type": "display_data"
    }
   ],
   "source": [
    "sns.countplot(x='Make', data=car_data)\n",
    "plt.title('Car Make Count')\n",
    "plt.show()"
   ]
  },
  {
   "cell_type": "code",
   "execution_count": 8,
   "id": "aa67ed4c",
   "metadata": {},
   "outputs": [
    {
     "data": {
      "image/png": "[encoded data removed]",
      "text/plain": [
       "<Figure size 640x480 with 1 Axes>"
      ]
     },
     "metadata": {},
     "output_type": "display_data"
    }
   ],
   "source": [
    "sns.histplot(x='Price', data=car_data)\n",
    "plt.title('Car Price Distribution')\n",
    "plt.show()"
   ]
  },
  {
   "cell_type": "code",
   "execution_count": 9,
   "id": "e08aa430",
   "metadata": {},
   "outputs": [
    {
     "data": {
      "image/png": "[encoded data removed]",
      "text/plain": [
       "<Figure size 640x480 with 1 Axes>"
      ]
     },
     "metadata": {},
     "output_type": "display_data"
    }
   ],
   "source": [
    "sns.boxplot(x='Fuel Type', y='Price', data=car_data)\n",
    "plt.title('Car Fuel Type vs. Price')\n",
    "plt.show()"
   ]
  },
  {
   "cell_type": "code",
   "execution_count": 10,
   "id": "e20c92e6",
   "metadata": {},
   "outputs": [
    {
     "data": {
      "image/png": "[encoded data removed]",
      "text/plain": [
       "<Figure size 640x480 with 1 Axes>"
      ]
     },
     "metadata": {},
     "output_type": "display_data"
    }
   ],
   "source": [
    "sns.scatterplot(x='Max Power', y='Price', data=car_data)\n",
    "plt.title('Max Power vs. Price')\n",
    "plt.show()"
   ]
  },
  {
   "cell_type": "code",
   "execution_count": 11,
   "id": "0ef5fc8b",
   "metadata": {},
   "outputs": [],
   "source": [
    "car_data = car_data.drop(['Model', 'Color','Owner','Seller Type','Drivetrain'], axis=1)"
   ]
  },
  {
   "cell_type": "code",
   "execution_count": 12,
   "id": "c3461d3f",
   "metadata": {},
   "outputs": [
    {
     "data": {
      "text/html": [
       "<div>\n",
       "<style scoped>\n",
       "    .dataframe tbody tr th:only-of-type {\n",
       "        vertical-align: middle;\n",
       "    }\n",
       "\n",
       "    .dataframe tbody tr th {\n",
       "        vertical-align: top;\n",
       "    }\n",
       "\n",
       "    .dataframe thead th {\n",
       "        text-align: right;\n",
       "    }\n",
       "</style>\n",
       "<table border=\"1\" class=\"dataframe\">\n",
       "  <thead>\n",
       "    <tr style=\"text-align: right;\">\n",
       "      <th></th>\n",
       "      <th>Make</th>\n",
       "      <th>Price</th>\n",
       "      <th>Year</th>\n",
       "      <th>Kilometer</th>\n",
       "      <th>Fuel Type</th>\n",
       "      <th>Transmission</th>\n",
       "      <th>Location</th>\n",
       "      <th>Engine</th>\n",
       "      <th>Max Power</th>\n",
       "      <th>Max Torque</th>\n",
       "      <th>Length</th>\n",
       "      <th>Width</th>\n",
       "      <th>Height</th>\n",
       "      <th>Seating Capacity</th>\n",
       "      <th>Fuel Tank Capacity</th>\n",
       "    </tr>\n",
       "  </thead>\n",
       "  <tbody>\n",
       "    <tr>\n",
       "      <th>0</th>\n",
       "      <td>Honda</td>\n",
       "      <td>505000</td>\n",
       "      <td>2017</td>\n",
       "      <td>87150</td>\n",
       "      <td>Petrol</td>\n",
       "      <td>Manual</td>\n",
       "      <td>Pune</td>\n",
       "      <td>1198 cc</td>\n",
       "      <td>87 bhp @ 6000 rpm</td>\n",
       "      <td>109 Nm @ 4500 rpm</td>\n",
       "      <td>3990.0</td>\n",
       "      <td>1680.0</td>\n",
       "      <td>1505.0</td>\n",
       "      <td>5.0</td>\n",
       "      <td>35.0</td>\n",
       "    </tr>\n",
       "    <tr>\n",
       "      <th>1</th>\n",
       "      <td>Maruti Suzuki</td>\n",
       "      <td>450000</td>\n",
       "      <td>2014</td>\n",
       "      <td>75000</td>\n",
       "      <td>Diesel</td>\n",
       "      <td>Manual</td>\n",
       "      <td>Ludhiana</td>\n",
       "      <td>1248 cc</td>\n",
       "      <td>74 bhp @ 4000 rpm</td>\n",
       "      <td>190 Nm @ 2000 rpm</td>\n",
       "      <td>3995.0</td>\n",
       "      <td>1695.0</td>\n",
       "      <td>1555.0</td>\n",
       "      <td>5.0</td>\n",
       "      <td>42.0</td>\n",
       "    </tr>\n",
       "    <tr>\n",
       "      <th>2</th>\n",
       "      <td>Hyundai</td>\n",
       "      <td>220000</td>\n",
       "      <td>2011</td>\n",
       "      <td>67000</td>\n",
       "      <td>Petrol</td>\n",
       "      <td>Manual</td>\n",
       "      <td>Lucknow</td>\n",
       "      <td>1197 cc</td>\n",
       "      <td>79 bhp @ 6000 rpm</td>\n",
       "      <td>112.7619 Nm @ 4000 rpm</td>\n",
       "      <td>3585.0</td>\n",
       "      <td>1595.0</td>\n",
       "      <td>1550.0</td>\n",
       "      <td>5.0</td>\n",
       "      <td>35.0</td>\n",
       "    </tr>\n",
       "    <tr>\n",
       "      <th>3</th>\n",
       "      <td>Toyota</td>\n",
       "      <td>799000</td>\n",
       "      <td>2019</td>\n",
       "      <td>37500</td>\n",
       "      <td>Petrol</td>\n",
       "      <td>Manual</td>\n",
       "      <td>Mangalore</td>\n",
       "      <td>1197 cc</td>\n",
       "      <td>82 bhp @ 6000 rpm</td>\n",
       "      <td>113 Nm @ 4200 rpm</td>\n",
       "      <td>3995.0</td>\n",
       "      <td>1745.0</td>\n",
       "      <td>1510.0</td>\n",
       "      <td>5.0</td>\n",
       "      <td>37.0</td>\n",
       "    </tr>\n",
       "    <tr>\n",
       "      <th>4</th>\n",
       "      <td>Toyota</td>\n",
       "      <td>1950000</td>\n",
       "      <td>2018</td>\n",
       "      <td>69000</td>\n",
       "      <td>Diesel</td>\n",
       "      <td>Manual</td>\n",
       "      <td>Mumbai</td>\n",
       "      <td>2393 cc</td>\n",
       "      <td>148 bhp @ 3400 rpm</td>\n",
       "      <td>343 Nm @ 1400 rpm</td>\n",
       "      <td>4735.0</td>\n",
       "      <td>1830.0</td>\n",
       "      <td>1795.0</td>\n",
       "      <td>7.0</td>\n",
       "      <td>55.0</td>\n",
       "    </tr>\n",
       "  </tbody>\n",
       "</table>\n",
       "</div>"
      ],
      "text/plain": [
       "            Make    Price  Year  Kilometer Fuel Type Transmission   Location  \\\n",
       "0          Honda   505000  2017      87150    Petrol       Manual       Pune   \n",
       "1  Maruti Suzuki   450000  2014      75000    Diesel       Manual   Ludhiana   \n",
       "2        Hyundai   220000  2011      67000    Petrol       Manual    Lucknow   \n",
       "3         Toyota   799000  2019      37500    Petrol       Manual  Mangalore   \n",
       "4         Toyota  1950000  2018      69000    Diesel       Manual     Mumbai   \n",
       "\n",
       "    Engine           Max Power              Max Torque  Length   Width  \\\n",
       "0  1198 cc   87 bhp @ 6000 rpm       109 Nm @ 4500 rpm  3990.0  1680.0   \n",
       "1  1248 cc   74 bhp @ 4000 rpm       190 Nm @ 2000 rpm  3995.0  1695.0   \n",
       "2  1197 cc   79 bhp @ 6000 rpm  112.7619 Nm @ 4000 rpm  3585.0  1595.0   \n",
       "3  1197 cc   82 bhp @ 6000 rpm       113 Nm @ 4200 rpm  3995.0  1745.0   \n",
       "4  2393 cc  148 bhp @ 3400 rpm       343 Nm @ 1400 rpm  4735.0  1830.0   \n",
       "\n",
       "   Height  Seating Capacity  Fuel Tank Capacity  \n",
       "0  1505.0               5.0                35.0  \n",
       "1  1555.0               5.0                42.0  \n",
       "2  1550.0               5.0                35.0  \n",
       "3  1510.0               5.0                37.0  \n",
       "4  1795.0               7.0                55.0  "
      ]
     },
     "execution_count": 12,
     "metadata": {},
     "output_type": "execute_result"
    }
   ],
   "source": [
    "car_data.head()"
   ]
  },
  {
   "cell_type": "code",
   "execution_count": 13,
   "id": "cae0f9fa",
   "metadata": {},
   "outputs": [],
   "source": [
    "label_encoder = LabelEncoder()\n",
    "car_data['Make'] = label_encoder.fit_transform(car_data['Make'])\n",
    "car_data['Fuel Type'] = label_encoder.fit_transform(car_data['Fuel Type'])\n",
    "car_data['Engine'] = label_encoder.fit_transform(car_data['Engine'])\n"
   ]
  },
  {
   "cell_type": "code",
   "execution_count": 14,
   "id": "e3d7960a",
   "metadata": {},
   "outputs": [],
   "source": [
    "car_data['Price'] = car_data['Price'].fillna(car_data['Price'].median())\n",
    "car_data['Kilometer'] = car_data['Kilometer'].fillna(car_data['Kilometer'].median())\n",
    "car_data['Year'] = car_data['Year'].fillna(car_data['Year'].median())\n",
    "car_data['Fuel Tank Capacity'] = car_data['Fuel Tank Capacity'].fillna(car_data['Fuel Tank Capacity'].median())"
   ]
  },
  {
   "cell_type": "code",
   "execution_count": 15,
   "id": "17d51726",
   "metadata": {},
   "outputs": [],
   "source": [
    "scaler = StandardScaler()\n",
    "numerical_cols = ['Length', 'Width', 'Height', 'Seating Capacity', 'Fuel Tank Capacity', 'Price']\n",
    "car_data[numerical_cols] = scaler.fit_transform(car_data[numerical_cols])"
   ]
  },
  {
   "cell_type": "code",
   "execution_count": 16,
   "id": "dd5da511",
   "metadata": {
    "scrolled": false
   },
   "outputs": [
    {
     "name": "stdout",
     "output_type": "stream",
     "text": [
      "   Make     Price  Year  Kilometer  Fuel Type Transmission   Location  Engine  \\\n",
      "0     7 -0.495183  2017      87150          6       Manual       Pune       7   \n",
      "1    19 -0.517916  2014      75000          2       Manual   Ludhiana       9   \n",
      "2     8 -0.612986  2011      67000          6       Manual    Lucknow       6   \n",
      "3    30 -0.373659  2019      37500          6       Manual  Mangalore       6   \n",
      "4    30  0.102099  2018      69000          2       Manual     Mumbai      60   \n",
      "\n",
      "            Max Power              Max Torque    Length     Width    Height  \\\n",
      "0   87 bhp @ 6000 rpm       109 Nm @ 4500 rpm -0.657539 -0.650675 -0.637573   \n",
      "1   74 bhp @ 4000 rpm       190 Nm @ 2000 rpm -0.646235 -0.539754 -0.270034   \n",
      "2   79 bhp @ 6000 rpm  112.7619 Nm @ 4000 rpm -1.573108 -1.279224 -0.306788   \n",
      "3   82 bhp @ 6000 rpm       113 Nm @ 4200 rpm -0.646235 -0.170019 -0.600819   \n",
      "4  148 bhp @ 3400 rpm       343 Nm @ 1400 rpm  1.026657  0.458531  1.494155   \n",
      "\n",
      "   Seating Capacity  Fuel Tank Capacity  \n",
      "0         -0.372602           -1.149684  \n",
      "1         -0.372602           -0.673267  \n",
      "2         -0.372602           -1.149684  \n",
      "3         -0.372602           -1.013565  \n",
      "4          2.060594            0.211507  \n"
     ]
    }
   ],
   "source": [
    "print(car_data.head())"
   ]
  },
  {
   "cell_type": "code",
   "execution_count": 17,
   "id": "fbaaa2b5",
   "metadata": {},
   "outputs": [
    {
     "data": {
      "text/html": [
       "<div>\n",
       "<style scoped>\n",
       "    .dataframe tbody tr th:only-of-type {\n",
       "        vertical-align: middle;\n",
       "    }\n",
       "\n",
       "    .dataframe tbody tr th {\n",
       "        vertical-align: top;\n",
       "    }\n",
       "\n",
       "    .dataframe thead th {\n",
       "        text-align: right;\n",
       "    }\n",
       "</style>\n",
       "<table border=\"1\" class=\"dataframe\">\n",
       "  <thead>\n",
       "    <tr style=\"text-align: right;\">\n",
       "      <th></th>\n",
       "      <th>Make</th>\n",
       "      <th>Price</th>\n",
       "      <th>Year</th>\n",
       "      <th>Kilometer</th>\n",
       "      <th>Fuel Type</th>\n",
       "      <th>Transmission</th>\n",
       "      <th>Location</th>\n",
       "      <th>Engine</th>\n",
       "      <th>Max Power</th>\n",
       "      <th>Max Torque</th>\n",
       "      <th>Length</th>\n",
       "      <th>Width</th>\n",
       "      <th>Height</th>\n",
       "      <th>Seating Capacity</th>\n",
       "      <th>Fuel Tank Capacity</th>\n",
       "    </tr>\n",
       "  </thead>\n",
       "  <tbody>\n",
       "    <tr>\n",
       "      <th>0</th>\n",
       "      <td>7</td>\n",
       "      <td>-0.495183</td>\n",
       "      <td>2017</td>\n",
       "      <td>87150</td>\n",
       "      <td>6</td>\n",
       "      <td>Manual</td>\n",
       "      <td>Pune</td>\n",
       "      <td>7</td>\n",
       "      <td>87 bhp @ 6000 rpm</td>\n",
       "      <td>109 Nm @ 4500 rpm</td>\n",
       "      <td>-0.657539</td>\n",
       "      <td>-0.650675</td>\n",
       "      <td>-0.637573</td>\n",
       "      <td>-0.372602</td>\n",
       "      <td>-1.149684</td>\n",
       "    </tr>\n",
       "    <tr>\n",
       "      <th>1</th>\n",
       "      <td>19</td>\n",
       "      <td>-0.517916</td>\n",
       "      <td>2014</td>\n",
       "      <td>75000</td>\n",
       "      <td>2</td>\n",
       "      <td>Manual</td>\n",
       "      <td>Ludhiana</td>\n",
       "      <td>9</td>\n",
       "      <td>74 bhp @ 4000 rpm</td>\n",
       "      <td>190 Nm @ 2000 rpm</td>\n",
       "      <td>-0.646235</td>\n",
       "      <td>-0.539754</td>\n",
       "      <td>-0.270034</td>\n",
       "      <td>-0.372602</td>\n",
       "      <td>-0.673267</td>\n",
       "    </tr>\n",
       "    <tr>\n",
       "      <th>2</th>\n",
       "      <td>8</td>\n",
       "      <td>-0.612986</td>\n",
       "      <td>2011</td>\n",
       "      <td>67000</td>\n",
       "      <td>6</td>\n",
       "      <td>Manual</td>\n",
       "      <td>Lucknow</td>\n",
       "      <td>6</td>\n",
       "      <td>79 bhp @ 6000 rpm</td>\n",
       "      <td>112.7619 Nm @ 4000 rpm</td>\n",
       "      <td>-1.573108</td>\n",
       "      <td>-1.279224</td>\n",
       "      <td>-0.306788</td>\n",
       "      <td>-0.372602</td>\n",
       "      <td>-1.149684</td>\n",
       "    </tr>\n",
       "    <tr>\n",
       "      <th>3</th>\n",
       "      <td>30</td>\n",
       "      <td>-0.373659</td>\n",
       "      <td>2019</td>\n",
       "      <td>37500</td>\n",
       "      <td>6</td>\n",
       "      <td>Manual</td>\n",
       "      <td>Mangalore</td>\n",
       "      <td>6</td>\n",
       "      <td>82 bhp @ 6000 rpm</td>\n",
       "      <td>113 Nm @ 4200 rpm</td>\n",
       "      <td>-0.646235</td>\n",
       "      <td>-0.170019</td>\n",
       "      <td>-0.600819</td>\n",
       "      <td>-0.372602</td>\n",
       "      <td>-1.013565</td>\n",
       "    </tr>\n",
       "    <tr>\n",
       "      <th>4</th>\n",
       "      <td>30</td>\n",
       "      <td>0.102099</td>\n",
       "      <td>2018</td>\n",
       "      <td>69000</td>\n",
       "      <td>2</td>\n",
       "      <td>Manual</td>\n",
       "      <td>Mumbai</td>\n",
       "      <td>60</td>\n",
       "      <td>148 bhp @ 3400 rpm</td>\n",
       "      <td>343 Nm @ 1400 rpm</td>\n",
       "      <td>1.026657</td>\n",
       "      <td>0.458531</td>\n",
       "      <td>1.494155</td>\n",
       "      <td>2.060594</td>\n",
       "      <td>0.211507</td>\n",
       "    </tr>\n",
       "  </tbody>\n",
       "</table>\n",
       "</div>"
      ],
      "text/plain": [
       "   Make     Price  Year  Kilometer  Fuel Type Transmission   Location  Engine  \\\n",
       "0     7 -0.495183  2017      87150          6       Manual       Pune       7   \n",
       "1    19 -0.517916  2014      75000          2       Manual   Ludhiana       9   \n",
       "2     8 -0.612986  2011      67000          6       Manual    Lucknow       6   \n",
       "3    30 -0.373659  2019      37500          6       Manual  Mangalore       6   \n",
       "4    30  0.102099  2018      69000          2       Manual     Mumbai      60   \n",
       "\n",
       "            Max Power              Max Torque    Length     Width    Height  \\\n",
       "0   87 bhp @ 6000 rpm       109 Nm @ 4500 rpm -0.657539 -0.650675 -0.637573   \n",
       "1   74 bhp @ 4000 rpm       190 Nm @ 2000 rpm -0.646235 -0.539754 -0.270034   \n",
       "2   79 bhp @ 6000 rpm  112.7619 Nm @ 4000 rpm -1.573108 -1.279224 -0.306788   \n",
       "3   82 bhp @ 6000 rpm       113 Nm @ 4200 rpm -0.646235 -0.170019 -0.600819   \n",
       "4  148 bhp @ 3400 rpm       343 Nm @ 1400 rpm  1.026657  0.458531  1.494155   \n",
       "\n",
       "   Seating Capacity  Fuel Tank Capacity  \n",
       "0         -0.372602           -1.149684  \n",
       "1         -0.372602           -0.673267  \n",
       "2         -0.372602           -1.149684  \n",
       "3         -0.372602           -1.013565  \n",
       "4          2.060594            0.211507  "
      ]
     },
     "execution_count": 17,
     "metadata": {},
     "output_type": "execute_result"
    }
   ],
   "source": [
    "car_data.head()"
   ]
  },
  {
   "cell_type": "code",
   "execution_count": 18,
   "id": "8638f195",
   "metadata": {},
   "outputs": [],
   "source": [
    "car_data = car_data.drop('Transmission',axis=1)\n",
    "car_data = car_data.drop('Location',axis=1)\n",
    "car_data = car_data.drop('Max Power',axis=1)\n",
    "car_data = car_data.drop('Max Torque',axis=1)\n"
   ]
  },
  {
   "cell_type": "code",
   "execution_count": 19,
   "id": "7645ac80",
   "metadata": {},
   "outputs": [
    {
     "name": "stdout",
     "output_type": "stream",
     "text": [
      "Columns with NaN values: Index(['Length', 'Width', 'Height', 'Seating Capacity'], dtype='object')\n",
      "Columns with infinity values: Index([], dtype='object')\n"
     ]
    }
   ],
   "source": [
    "nan_columns = car_data.columns[car_data.isnull().any()]\n",
    "print(\"Columns with NaN values:\", nan_columns)\n",
    "\n",
    "# Check for infinity values\n",
    "inf_columns = car_data.columns[np.isinf(car_data).any()]\n",
    "print(\"Columns with infinity values:\", inf_columns)"
   ]
  },
  {
   "cell_type": "code",
   "execution_count": 20,
   "id": "97da8cd6",
   "metadata": {},
   "outputs": [],
   "source": [
    "\n",
    "car_data.dropna(inplace=True)"
   ]
  },
  {
   "cell_type": "code",
   "execution_count": 21,
   "id": "dafec1f2",
   "metadata": {},
   "outputs": [
    {
     "name": "stdout",
     "output_type": "stream",
     "text": [
      "<class 'numpy.float64'>\n"
     ]
    }
   ],
   "source": [
    "\n",
    "car_data = car_data[~np.isinf(car_data).any(axis=1)]\n",
    "car_data = car_data.astype('float64')\n",
    "print(type(car_data['Length'][0]))"
   ]
  },
  {
   "cell_type": "code",
   "execution_count": null,
   "id": "d1ec2460",
   "metadata": {},
   "outputs": [],
   "source": []
  },
  {
   "cell_type": "code",
   "execution_count": 22,
   "id": "bbe001ce",
   "metadata": {},
   "outputs": [],
   "source": [
    "X = car_data.drop('Price',axis=1)\n",
    "y = car_data['Price']\n",
    "\n",
    "X_train, X_test, y_train, y_test = train_test_split(X, y, test_size=0.2, random_state=42)\n"
   ]
  },
  {
   "cell_type": "code",
   "execution_count": 23,
   "id": "f8370ad6",
   "metadata": {},
   "outputs": [
    {
     "name": "stdout",
     "output_type": "stream",
     "text": [
      "(1596, 10)\n",
      "(399, 10)\n",
      "(1596,)\n",
      "(399,)\n"
     ]
    }
   ],
   "source": [
    "print(X_train.shape)\n",
    "print(X_test.shape)\n",
    "print(y_train.shape)\n",
    "print(y_test.shape)"
   ]
  },
  {
   "cell_type": "code",
   "execution_count": 24,
   "id": "32ee6786",
   "metadata": {},
   "outputs": [],
   "source": [
    "models = {\n",
    "    'Linear Regression': LinearRegression(),\n",
    "    'Decision Tree': DecisionTreeRegressor(),\n",
    "    'Random Forest': RandomForestRegressor()\n",
    "}"
   ]
  },
  {
   "cell_type": "code",
   "execution_count": 25,
   "id": "d4272e27",
   "metadata": {
    "scrolled": true
   },
   "outputs": [
    {
     "name": "stdout",
     "output_type": "stream",
     "text": [
      "Linear Regression:\n",
      "Mean RMSE: 0.7315110235813027\n",
      "Decision Tree:\n",
      "Mean RMSE: 0.5972909967644716\n",
      "Random Forest:\n",
      "Mean RMSE: 0.4613471013863089\n"
     ]
    }
   ],
   "source": [
    "for model_name, model in models.items():\n",
    "    scores = cross_val_score(model, X_train, y_train, cv=5, scoring='neg_mean_squared_error')\n",
    "    rmse_scores = np.sqrt(-scores)\n",
    "    print(f'{model_name}:')\n",
    "    print(f'Mean RMSE: {rmse_scores.mean()}')"
   ]
  },
  {
   "cell_type": "code",
   "execution_count": 26,
   "id": "eab35667",
   "metadata": {
    "scrolled": true
   },
   "outputs": [
    {
     "data": {
      "text/html": [
       "<div>\n",
       "<style scoped>\n",
       "    .dataframe tbody tr th:only-of-type {\n",
       "        vertical-align: middle;\n",
       "    }\n",
       "\n",
       "    .dataframe tbody tr th {\n",
       "        vertical-align: top;\n",
       "    }\n",
       "\n",
       "    .dataframe thead th {\n",
       "        text-align: right;\n",
       "    }\n",
       "</style>\n",
       "<table border=\"1\" class=\"dataframe\">\n",
       "  <thead>\n",
       "    <tr style=\"text-align: right;\">\n",
       "      <th></th>\n",
       "      <th>Make</th>\n",
       "      <th>Price</th>\n",
       "      <th>Year</th>\n",
       "      <th>Kilometer</th>\n",
       "      <th>Fuel Type</th>\n",
       "      <th>Engine</th>\n",
       "      <th>Length</th>\n",
       "      <th>Width</th>\n",
       "      <th>Height</th>\n",
       "      <th>Seating Capacity</th>\n",
       "      <th>Fuel Tank Capacity</th>\n",
       "    </tr>\n",
       "  </thead>\n",
       "  <tbody>\n",
       "    <tr>\n",
       "      <th>0</th>\n",
       "      <td>7.0</td>\n",
       "      <td>-0.495183</td>\n",
       "      <td>2017.0</td>\n",
       "      <td>87150.0</td>\n",
       "      <td>6.0</td>\n",
       "      <td>7.0</td>\n",
       "      <td>-0.657539</td>\n",
       "      <td>-0.650675</td>\n",
       "      <td>-0.637573</td>\n",
       "      <td>-0.372602</td>\n",
       "      <td>-1.149684</td>\n",
       "    </tr>\n",
       "    <tr>\n",
       "      <th>1</th>\n",
       "      <td>19.0</td>\n",
       "      <td>-0.517916</td>\n",
       "      <td>2014.0</td>\n",
       "      <td>75000.0</td>\n",
       "      <td>2.0</td>\n",
       "      <td>9.0</td>\n",
       "      <td>-0.646235</td>\n",
       "      <td>-0.539754</td>\n",
       "      <td>-0.270034</td>\n",
       "      <td>-0.372602</td>\n",
       "      <td>-0.673267</td>\n",
       "    </tr>\n",
       "    <tr>\n",
       "      <th>2</th>\n",
       "      <td>8.0</td>\n",
       "      <td>-0.612986</td>\n",
       "      <td>2011.0</td>\n",
       "      <td>67000.0</td>\n",
       "      <td>6.0</td>\n",
       "      <td>6.0</td>\n",
       "      <td>-1.573108</td>\n",
       "      <td>-1.279224</td>\n",
       "      <td>-0.306788</td>\n",
       "      <td>-0.372602</td>\n",
       "      <td>-1.149684</td>\n",
       "    </tr>\n",
       "    <tr>\n",
       "      <th>3</th>\n",
       "      <td>30.0</td>\n",
       "      <td>-0.373659</td>\n",
       "      <td>2019.0</td>\n",
       "      <td>37500.0</td>\n",
       "      <td>6.0</td>\n",
       "      <td>6.0</td>\n",
       "      <td>-0.646235</td>\n",
       "      <td>-0.170019</td>\n",
       "      <td>-0.600819</td>\n",
       "      <td>-0.372602</td>\n",
       "      <td>-1.013565</td>\n",
       "    </tr>\n",
       "    <tr>\n",
       "      <th>4</th>\n",
       "      <td>30.0</td>\n",
       "      <td>0.102099</td>\n",
       "      <td>2018.0</td>\n",
       "      <td>69000.0</td>\n",
       "      <td>2.0</td>\n",
       "      <td>60.0</td>\n",
       "      <td>1.026657</td>\n",
       "      <td>0.458531</td>\n",
       "      <td>1.494155</td>\n",
       "      <td>2.060594</td>\n",
       "      <td>0.211507</td>\n",
       "    </tr>\n",
       "  </tbody>\n",
       "</table>\n",
       "</div>"
      ],
      "text/plain": [
       "   Make     Price    Year  Kilometer  Fuel Type  Engine    Length     Width  \\\n",
       "0   7.0 -0.495183  2017.0    87150.0        6.0     7.0 -0.657539 -0.650675   \n",
       "1  19.0 -0.517916  2014.0    75000.0        2.0     9.0 -0.646235 -0.539754   \n",
       "2   8.0 -0.612986  2011.0    67000.0        6.0     6.0 -1.573108 -1.279224   \n",
       "3  30.0 -0.373659  2019.0    37500.0        6.0     6.0 -0.646235 -0.170019   \n",
       "4  30.0  0.102099  2018.0    69000.0        2.0    60.0  1.026657  0.458531   \n",
       "\n",
       "     Height  Seating Capacity  Fuel Tank Capacity  \n",
       "0 -0.637573         -0.372602           -1.149684  \n",
       "1 -0.270034         -0.372602           -0.673267  \n",
       "2 -0.306788         -0.372602           -1.149684  \n",
       "3 -0.600819         -0.372602           -1.013565  \n",
       "4  1.494155          2.060594            0.211507  "
      ]
     },
     "execution_count": 26,
     "metadata": {},
     "output_type": "execute_result"
    }
   ],
   "source": [
    "car_data.head()"
   ]
  },
  {
   "cell_type": "code",
   "execution_count": 27,
   "id": "628be3cf",
   "metadata": {},
   "outputs": [
    {
     "data": {
      "text/plain": [
       "RandomForestRegressor()"
      ]
     },
     "execution_count": 27,
     "metadata": {},
     "output_type": "execute_result"
    }
   ],
   "source": [
    "model = RandomForestRegressor()\n",
    "model.fit(X_train, y_train)"
   ]
  },
  {
   "cell_type": "code",
   "execution_count": 28,
   "id": "a33e6106",
   "metadata": {},
   "outputs": [],
   "source": [
    "y_pred = model.predict(X_test)"
   ]
  },
  {
   "cell_type": "code",
   "execution_count": 29,
   "id": "f6c323eb",
   "metadata": {},
   "outputs": [
    {
     "name": "stdout",
     "output_type": "stream",
     "text": [
      "Root Mean Squared Error (RMSE): 0.31356810031778964\n"
     ]
    }
   ],
   "source": [
    "mse = mean_squared_error(y_test, y_pred)\n",
    "rmse = np.sqrt(mse)\n",
    "print(f'Root Mean Squared Error (RMSE): {rmse}')\n"
   ]
  },
  {
   "cell_type": "code",
   "execution_count": 30,
   "id": "7684a7c6",
   "metadata": {},
   "outputs": [],
   "source": [
    "def predict_car_price(input_data):\n",
    "   \n",
    "    predicted_price = model.predict(input_data)\n",
    "    \n",
    "    return predicted_price"
   ]
  },
  {
   "cell_type": "code",
   "execution_count": 31,
   "id": "3ff366e7",
   "metadata": {},
   "outputs": [
    {
     "data": {
      "text/html": [
       "<div>\n",
       "<style scoped>\n",
       "    .dataframe tbody tr th:only-of-type {\n",
       "        vertical-align: middle;\n",
       "    }\n",
       "\n",
       "    .dataframe tbody tr th {\n",
       "        vertical-align: top;\n",
       "    }\n",
       "\n",
       "    .dataframe thead th {\n",
       "        text-align: right;\n",
       "    }\n",
       "</style>\n",
       "<table border=\"1\" class=\"dataframe\">\n",
       "  <thead>\n",
       "    <tr style=\"text-align: right;\">\n",
       "      <th></th>\n",
       "      <th>Make</th>\n",
       "      <th>Price</th>\n",
       "      <th>Year</th>\n",
       "      <th>Kilometer</th>\n",
       "      <th>Fuel Type</th>\n",
       "      <th>Engine</th>\n",
       "      <th>Length</th>\n",
       "      <th>Width</th>\n",
       "      <th>Height</th>\n",
       "      <th>Seating Capacity</th>\n",
       "      <th>Fuel Tank Capacity</th>\n",
       "    </tr>\n",
       "  </thead>\n",
       "  <tbody>\n",
       "    <tr>\n",
       "      <th>0</th>\n",
       "      <td>7.0</td>\n",
       "      <td>-0.495183</td>\n",
       "      <td>2017.0</td>\n",
       "      <td>87150.0</td>\n",
       "      <td>6.0</td>\n",
       "      <td>7.0</td>\n",
       "      <td>-0.657539</td>\n",
       "      <td>-0.650675</td>\n",
       "      <td>-0.637573</td>\n",
       "      <td>-0.372602</td>\n",
       "      <td>-1.149684</td>\n",
       "    </tr>\n",
       "    <tr>\n",
       "      <th>1</th>\n",
       "      <td>19.0</td>\n",
       "      <td>-0.517916</td>\n",
       "      <td>2014.0</td>\n",
       "      <td>75000.0</td>\n",
       "      <td>2.0</td>\n",
       "      <td>9.0</td>\n",
       "      <td>-0.646235</td>\n",
       "      <td>-0.539754</td>\n",
       "      <td>-0.270034</td>\n",
       "      <td>-0.372602</td>\n",
       "      <td>-0.673267</td>\n",
       "    </tr>\n",
       "    <tr>\n",
       "      <th>2</th>\n",
       "      <td>8.0</td>\n",
       "      <td>-0.612986</td>\n",
       "      <td>2011.0</td>\n",
       "      <td>67000.0</td>\n",
       "      <td>6.0</td>\n",
       "      <td>6.0</td>\n",
       "      <td>-1.573108</td>\n",
       "      <td>-1.279224</td>\n",
       "      <td>-0.306788</td>\n",
       "      <td>-0.372602</td>\n",
       "      <td>-1.149684</td>\n",
       "    </tr>\n",
       "    <tr>\n",
       "      <th>3</th>\n",
       "      <td>30.0</td>\n",
       "      <td>-0.373659</td>\n",
       "      <td>2019.0</td>\n",
       "      <td>37500.0</td>\n",
       "      <td>6.0</td>\n",
       "      <td>6.0</td>\n",
       "      <td>-0.646235</td>\n",
       "      <td>-0.170019</td>\n",
       "      <td>-0.600819</td>\n",
       "      <td>-0.372602</td>\n",
       "      <td>-1.013565</td>\n",
       "    </tr>\n",
       "    <tr>\n",
       "      <th>4</th>\n",
       "      <td>30.0</td>\n",
       "      <td>0.102099</td>\n",
       "      <td>2018.0</td>\n",
       "      <td>69000.0</td>\n",
       "      <td>2.0</td>\n",
       "      <td>60.0</td>\n",
       "      <td>1.026657</td>\n",
       "      <td>0.458531</td>\n",
       "      <td>1.494155</td>\n",
       "      <td>2.060594</td>\n",
       "      <td>0.211507</td>\n",
       "    </tr>\n",
       "  </tbody>\n",
       "</table>\n",
       "</div>"
      ],
      "text/plain": [
       "   Make     Price    Year  Kilometer  Fuel Type  Engine    Length     Width  \\\n",
       "0   7.0 -0.495183  2017.0    87150.0        6.0     7.0 -0.657539 -0.650675   \n",
       "1  19.0 -0.517916  2014.0    75000.0        2.0     9.0 -0.646235 -0.539754   \n",
       "2   8.0 -0.612986  2011.0    67000.0        6.0     6.0 -1.573108 -1.279224   \n",
       "3  30.0 -0.373659  2019.0    37500.0        6.0     6.0 -0.646235 -0.170019   \n",
       "4  30.0  0.102099  2018.0    69000.0        2.0    60.0  1.026657  0.458531   \n",
       "\n",
       "     Height  Seating Capacity  Fuel Tank Capacity  \n",
       "0 -0.637573         -0.372602           -1.149684  \n",
       "1 -0.270034         -0.372602           -0.673267  \n",
       "2 -0.306788         -0.372602           -1.149684  \n",
       "3 -0.600819         -0.372602           -1.013565  \n",
       "4  1.494155          2.060594            0.211507  "
      ]
     },
     "execution_count": 31,
     "metadata": {},
     "output_type": "execute_result"
    }
   ],
   "source": [
    "car_data.head()"
   ]
  },
  {
   "cell_type": "code",
   "execution_count": 32,
   "id": "8bbfbffc",
   "metadata": {},
   "outputs": [
    {
     "name": "stdout",
     "output_type": "stream",
     "text": [
      "[-0.4944923  -0.51561726 -0.60215598 ... -0.56576518  1.03795133\n",
      " -0.42344674]\n"
     ]
    }
   ],
   "source": [
    "\n",
    "\n",
    "input_data = pd.DataFrame(X)\n",
    "\n",
    "\n",
    "predicted_price = predict_car_price(input_data)\n",
    "print(predicted_price)"
   ]
  },
  {
   "cell_type": "code",
   "execution_count": null,
   "id": "f5d168ad",
   "metadata": {},
   "outputs": [],
   "source": []
  }
 ],
 "metadata": {
  "kernelspec": {
   "display_name": "Python 3 (ipykernel)",
   "language": "python",
   "name": "python3"
  },
  "language_info": {
   "codemirror_mode": {
    "name": "ipython",
    "version": 3
   },
   "file_extension": ".py",
   "mimetype": "text/x-python",
   "name": "python",
   "nbconvert_exporter": "python",
   "pygments_lexer": "ipython3",
   "version": "3.9.13"
  }
 },
 "nbformat": 4,
 "nbformat_minor": 5
}
